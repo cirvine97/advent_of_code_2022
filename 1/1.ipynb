{
 "cells": [
  {
   "cell_type": "code",
   "execution_count": 33,
   "metadata": {},
   "outputs": [
    {
     "data": {
      "text/plain": [
       "2251-element Vector{Vector{Int64}}:\n",
       " [6529]\n",
       " [8085]\n",
       " [4534]\n",
       " [1503]\n",
       " [2983]\n",
       " [5030]\n",
       " [2135]\n",
       " [5866]\n",
       " [5092]\n",
       " [5059]\n",
       " [1232]\n",
       " []\n",
       " [15219]\n",
       " ⋮\n",
       " [7071]\n",
       " [8285]\n",
       " []\n",
       " [8164]\n",
       " [2663]\n",
       " [8024]\n",
       " [9441]\n",
       " [5027]\n",
       " [9077]\n",
       " [6889]\n",
       " [7045]\n",
       " [8717]"
      ]
     },
     "execution_count": 33,
     "metadata": {},
     "output_type": "execute_result"
    }
   ],
   "source": [
    "# Read in the file\n",
    "ret = open(\"input.txt\",\"r\") do datafile\n",
    "    [parse.(Int64, split(line)) for line in eachline(datafile)]\n",
    "end"
   ]
  },
  {
   "cell_type": "code",
   "execution_count": 42,
   "metadata": {},
   "outputs": [
    {
     "name": "stdout",
     "output_type": "stream",
     "text": [
      "72718\n"
     ]
    }
   ],
   "source": [
    "# Loop through the file\n",
    "sum = 0\n",
    "sums = []\n",
    "for ii in 1:length(ret)\n",
    "    if ret[ii] != []\n",
    "        # This is just weirdness of it being \n",
    "        # a vector of vectors\n",
    "        sum += ret[ii][1]\n",
    "    else\n",
    "        # Append sub sum\n",
    "        append!(sums, sum)\n",
    "        # Reset sum\n",
    "        sum=0\n",
    "    end\n",
    "end\n",
    "\n",
    "# Find the maximum \n",
    "println(maximum(sums))"
   ]
  }
 ],
 "metadata": {
  "kernelspec": {
   "display_name": "Julia 1.7.3",
   "language": "julia",
   "name": "julia-1.7"
  },
  "language_info": {
   "file_extension": ".jl",
   "mimetype": "application/julia",
   "name": "julia",
   "version": "1.7.3"
  },
  "orig_nbformat": 4,
  "vscode": {
   "interpreter": {
    "hash": "3a3aadd396a25f71000c795b9ac2397cf3218a171b97ebf3e1f5559742b27296"
   }
  }
 },
 "nbformat": 4,
 "nbformat_minor": 2
}
