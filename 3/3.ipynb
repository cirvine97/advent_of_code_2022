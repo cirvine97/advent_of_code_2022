{
 "cells": [
  {
   "cell_type": "code",
   "execution_count": 44,
   "metadata": {},
   "outputs": [
    {
     "data": {
      "text/plain": [
       "\"\""
      ]
     },
     "execution_count": 44,
     "metadata": {},
     "output_type": "execute_result"
    }
   ],
   "source": [
    "# Part 1\n",
    "# opening a file in read_mode\n",
    "f = open(\"input.txt\", \"r\")\n",
    " \n",
    "# read entire file into a string\n",
    "s = read(f, String)      \n",
    "close(f)\n",
    "\n",
    "# Split and save as strategy \n",
    "contents = split(s, \"\\n\")\n",
    "\n",
    "# Remove the blank end element\n",
    "pop!(contents)"
   ]
  },
  {
   "cell_type": "code",
   "execution_count": 45,
   "metadata": {},
   "outputs": [
    {
     "data": {
      "text/plain": [
       "\"shzsFcPssFhjFssBzdpRcNHNZrpdJdJVJZ\""
      ]
     },
     "execution_count": 45,
     "metadata": {},
     "output_type": "execute_result"
    }
   ],
   "source": [
    "contents[1]"
   ]
  },
  {
   "cell_type": "code",
   "execution_count": 46,
   "metadata": {},
   "outputs": [
    {
     "data": {
      "text/plain": [
       "34"
      ]
     },
     "execution_count": 46,
     "metadata": {},
     "output_type": "execute_result"
    }
   ],
   "source": [
    "length(contents[1])"
   ]
  },
  {
   "cell_type": "code",
   "execution_count": 49,
   "metadata": {},
   "outputs": [
    {
     "data": {
      "text/plain": [
       "\"shzsFcPssFhjFssBz\""
      ]
     },
     "execution_count": 49,
     "metadata": {},
     "output_type": "execute_result"
    }
   ],
   "source": [
    "bag1len = length(contents[1])\n",
    "comp1 = contents[1][1:Int(bag1len/2)]"
   ]
  },
  {
   "cell_type": "code",
   "execution_count": 50,
   "metadata": {},
   "outputs": [
    {
     "data": {
      "text/plain": [
       "\"dpRcNHNZrpdJdJVJZ\""
      ]
     },
     "execution_count": 50,
     "metadata": {},
     "output_type": "execute_result"
    }
   ],
   "source": [
    "comp2 = contents[1][Int(bag1len/2)+1:end]"
   ]
  },
  {
   "cell_type": "code",
   "execution_count": 51,
   "metadata": {},
   "outputs": [
    {
     "data": {
      "text/plain": [
       "17-element Vector{SubString{String}}:\n",
       " \"d\"\n",
       " \"p\"\n",
       " \"R\"\n",
       " \"c\"\n",
       " \"N\"\n",
       " \"H\"\n",
       " \"N\"\n",
       " \"Z\"\n",
       " \"r\"\n",
       " \"p\"\n",
       " \"d\"\n",
       " \"J\"\n",
       " \"d\"\n",
       " \"J\"\n",
       " \"V\"\n",
       " \"J\"\n",
       " \"Z\""
      ]
     },
     "execution_count": 51,
     "metadata": {},
     "output_type": "execute_result"
    }
   ],
   "source": [
    "comp1 = split(comp1, \"\")\n",
    "comp2 = split(comp2, \"\")"
   ]
  },
  {
   "cell_type": "code",
   "execution_count": 52,
   "metadata": {},
   "outputs": [
    {
     "data": {
      "text/plain": [
       "17"
      ]
     },
     "execution_count": 52,
     "metadata": {},
     "output_type": "execute_result"
    }
   ],
   "source": [
    "length(comp1)"
   ]
  },
  {
   "cell_type": "code",
   "execution_count": 53,
   "metadata": {},
   "outputs": [
    {
     "data": {
      "text/plain": [
       "17"
      ]
     },
     "execution_count": 53,
     "metadata": {},
     "output_type": "execute_result"
    }
   ],
   "source": [
    "length(comp2)"
   ]
  },
  {
   "cell_type": "code",
   "execution_count": 54,
   "metadata": {},
   "outputs": [
    {
     "data": {
      "text/plain": [
       "Set{SubString{String}} with 10 elements:\n",
       "  \"H\"\n",
       "  \"Z\"\n",
       "  \"c\"\n",
       "  \"V\"\n",
       "  \"r\"\n",
       "  \"J\"\n",
       "  \"N\"\n",
       "  \"R\"\n",
       "  \"p\"\n",
       "  \"d\""
      ]
     },
     "execution_count": 54,
     "metadata": {},
     "output_type": "execute_result"
    }
   ],
   "source": [
    "comp1 = Set(comp1)\n",
    "comp2 = Set(comp2)"
   ]
  },
  {
   "cell_type": "code",
   "execution_count": 91,
   "metadata": {},
   "outputs": [
    {
     "data": {
      "text/plain": [
       "\"Set(SubString{String}[\\\"c\\\"])\""
      ]
     },
     "execution_count": 91,
     "metadata": {},
     "output_type": "execute_result"
    }
   ],
   "source": [
    "intersect(comp1, comp2)"
   ]
  },
  {
   "cell_type": "code",
   "execution_count": 119,
   "metadata": {},
   "outputs": [
    {
     "data": {
      "text/plain": [
       "1:52"
      ]
     },
     "execution_count": 119,
     "metadata": {},
     "output_type": "execute_result"
    }
   ],
   "source": [
    "alpha_lower = 'a':'z'\n",
    "alpha_upper = 'A':'Z'\n",
    "alphabet = vcat(alpha_lower, alpha_upper)\n",
    "scores = 1:52"
   ]
  },
  {
   "cell_type": "code",
   "execution_count": 120,
   "metadata": {},
   "outputs": [
    {
     "data": {
      "text/plain": [
       "Dict{Char, Int64} with 52 entries:\n",
       "  'n' => 14\n",
       "  'f' => 6\n",
       "  'w' => 23\n",
       "  'E' => 31\n",
       "  'Z' => 52\n",
       "  'o' => 15\n",
       "  'B' => 28\n",
       "  'C' => 29\n",
       "  'h' => 8\n",
       "  'i' => 9\n",
       "  'r' => 18\n",
       "  't' => 20\n",
       "  'q' => 17\n",
       "  'M' => 39\n",
       "  'K' => 37\n",
       "  'J' => 36\n",
       "  'P' => 42\n",
       "  'I' => 35\n",
       "  'H' => 34\n",
       "  'a' => 1\n",
       "  'c' => 3\n",
       "  'p' => 16\n",
       "  'W' => 49\n",
       "  'T' => 46\n",
       "  'U' => 47\n",
       "  ⋮   => ⋮"
      ]
     },
     "execution_count": 120,
     "metadata": {},
     "output_type": "execute_result"
    }
   ],
   "source": [
    "mapping = Dict(zip(alphabet, scores))"
   ]
  },
  {
   "cell_type": "code",
   "execution_count": 121,
   "metadata": {},
   "outputs": [
    {
     "name": "stdout",
     "output_type": "stream",
     "text": [
      "1\n",
      "2\n",
      "26\n",
      "27\n"
     ]
    }
   ],
   "source": [
    "println(mapping['a'])\n",
    "println(mapping['b'])\n",
    "println(mapping['z'])\n",
    "println(mapping['A'])"
   ]
  },
  {
   "cell_type": "code",
   "execution_count": 123,
   "metadata": {},
   "outputs": [
    {
     "data": {
      "text/plain": [
       "3"
      ]
     },
     "execution_count": 123,
     "metadata": {},
     "output_type": "execute_result"
    }
   ],
   "source": [
    "mapping[only(\"c\")]"
   ]
  },
  {
   "cell_type": "code",
   "execution_count": 124,
   "metadata": {},
   "outputs": [
    {
     "name": "stdout",
     "output_type": "stream",
     "text": [
      "8185\n"
     ]
    }
   ],
   "source": [
    "sum = 0\n",
    "for ii in 1:length(contents)\n",
    "    bag_len = length(contents[ii])\n",
    "    comp1 = contents[ii][1:Int(bag_len/2)]\n",
    "    comp2 = contents[ii][Int(bag_len/2)+1:end]\n",
    "\n",
    "    # Split strings into array of characters\n",
    "    comp1 = split(comp1, \"\")\n",
    "    comp2 = split(comp2, \"\")\n",
    "\n",
    "    comp1 = Set(comp1)\n",
    "    comp2 = Set(comp2)\n",
    "    # Find shared elements\n",
    "    shared = intersect(comp1, comp2)\n",
    "\n",
    "    # Need to convert to character instead of string\n",
    "    sum += mapping[only(first(shared))]\n",
    "end\n",
    "\n",
    "println(sum)"
   ]
  }
 ],
 "metadata": {
  "kernelspec": {
   "display_name": "Julia 1.7.3",
   "language": "julia",
   "name": "julia-1.7"
  },
  "language_info": {
   "file_extension": ".jl",
   "mimetype": "application/julia",
   "name": "julia",
   "version": "1.7.3"
  },
  "orig_nbformat": 4
 },
 "nbformat": 4,
 "nbformat_minor": 2
}
